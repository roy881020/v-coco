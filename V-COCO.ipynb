{
 "cells": [
  {
   "cell_type": "code",
   "execution_count": 2,
   "metadata": {
    "collapsed": false,
    "pycharm": {
     "is_executing": false
    }
   },
   "outputs": [
    {
     "name": "stdout",
     "text": [
      "added /home/roy/PycharmProjects/v-coco/coco/PythonAPI to pythonpath\n"
     ],
     "output_type": "stream"
    }
   ],
   "source": [
    "import __init__\n",
    "import vsrl_utils as vu\n",
    "import numpy as np\n",
    "\n",
    "%matplotlib inline\n",
    "import matplotlib\n",
    "import matplotlib.pyplot as plt"
   ]
  },
  {
   "cell_type": "code",
   "execution_count": 4,
   "metadata": {
    "collapsed": true,
    "pycharm": {
     "is_executing": false
    }
   },
   "outputs": [],
   "source": [
    "def draw_bbox(plt, ax, rois, fill=False, linewidth=2, edgecolor=[1.0, 0.0, 0.0], **kwargs):\n",
    "    for i in range(rois.shape[0]):\n",
    "        roi = rois[i,:].astype(np.int)\n",
    "        ax.add_patch(plt.Rectangle((roi[0], roi[1]),\n",
    "            roi[2] - roi[0], roi[3] - roi[1],\n",
    "            fill=False, linewidth=linewidth, edgecolor=edgecolor, **kwargs))\n",
    "\n",
    "def subplot(plt, Y, X, sz_y=10, sz_x=10):\n",
    "    plt.rcParams['figure.figsize'] = (X*sz_x, Y*sz_y)\n",
    "    fig, axes = plt.subplots(Y, X)\n",
    "    return fig, axes"
   ]
  },
  {
   "cell_type": "code",
   "execution_count": 5,
   "metadata": {
    "collapsed": false,
    "pycharm": {
     "is_executing": false
    }
   },
   "outputs": [
    {
     "name": "stdout",
     "text": [
      "loading annotations into memory...\n",
      "Done (t=1.39s)\n",
      "creating index...\n",
      "index created!\n"
     ],
     "output_type": "stream"
    }
   ],
   "source": [
    "# Load COCO annotations for V-COCO images\n",
    "coco = vu.load_coco()\n",
    "\n",
    "# Load the VCOCO annotations for vcoco_train image set\n",
    "vcoco_all = vu.load_vcoco('vcoco_train')"
   ]
  },
  {
   "cell_type": "code",
   "execution_count": 6,
   "outputs": [],
   "source": [
    "for x in vcoco_all:\n",
    "    x = vu.attach_gt_boxes(x, coco)"
   ],
   "metadata": {
    "collapsed": false,
    "pycharm": {
     "name": "#%%\n",
     "is_executing": false
    }
   }
  },
  {
   "cell_type": "code",
   "execution_count": 7,
   "metadata": {
    "collapsed": false,
    "pycharm": {
     "is_executing": false
    }
   },
   "outputs": [
    {
     "name": "stdout",
     "text": [
      "                hold ['agent', 'obj']\n",
      "               stand ['agent']\n",
      "                 sit ['agent', 'instr']\n",
      "                ride ['agent', 'instr']\n",
      "                walk ['agent']\n",
      "                look ['agent', 'obj']\n",
      "                 hit ['agent', 'instr', 'obj']\n",
      "                 eat ['agent', 'obj', 'instr']\n",
      "                jump ['agent', 'instr']\n",
      "                 lay ['agent', 'instr']\n",
      "       talk_on_phone ['agent', 'instr']\n",
      "               carry ['agent', 'obj']\n",
      "               throw ['agent', 'obj']\n",
      "               catch ['agent', 'obj']\n",
      "                 cut ['agent', 'instr', 'obj']\n",
      "                 run ['agent']\n",
      "    work_on_computer ['agent', 'instr']\n",
      "                 ski ['agent', 'instr']\n",
      "                surf ['agent', 'instr']\n",
      "          skateboard ['agent', 'instr']\n",
      "               smile ['agent']\n",
      "               drink ['agent', 'instr']\n",
      "                kick ['agent', 'obj']\n",
      "               point ['agent', 'instr']\n",
      "                read ['agent', 'obj']\n",
      "           snowboard ['agent', 'instr']\n"
     ],
     "output_type": "stream"
    }
   ],
   "source": [
    "# Action classes and roles in V-COCO\n",
    "classes = [x['action_name'] for x in vcoco_all]\n",
    "for i, x in enumerate(vcoco_all):\n",
    "    print('{:>20s}'.format(x['action_name']), x['role_name'])"
   ]
  },
  {
   "cell_type": "code",
   "execution_count": 8,
   "metadata": {
    "collapsed": false,
    "pycharm": {
     "is_executing": false
    }
   },
   "outputs": [],
   "source": [
    "# Visualize annotations for the some class\n",
    "cls_id = classes.index('hit')\n",
    "vcoco = vcoco_all[cls_id]"
   ]
  },
  {
   "cell_type": "code",
   "execution_count": null,
   "metadata": {
    "collapsed": false,
    "scrolled": false,
    "pycharm": {
     "is_executing": true
    }
   },
   "outputs": [],
   "source": [
    "np.random.seed(1)\n",
    "positive_index = np.where(vcoco['label'] == 1)[0]\n",
    "positive_index = np.random.permutation(positive_index)\n",
    "\n",
    "# the demo here laods images from the COCO website, \n",
    "# you can alternatively use your own local folder of COCO images.\n",
    "load_coco_image_from_web = True\n",
    "if load_coco_image_from_web:\n",
    "    base_coco_url = 'http://mscoco.org/images/'\n",
    "    from PIL import Image\n",
    "    import urllib\n",
    "    from io import StringIO\n",
    "\n",
    "cc = plt.get_cmap('hsv', lut=4)\n",
    "\n",
    "for i in range(5):\n",
    "    id = positive_index[i]\n",
    "\n",
    "    # load image\n",
    "    coco_image = coco.loadImgs(ids=[vcoco['image_id'][id][0]])[0]\n",
    "    if load_coco_image_from_web:\n",
    "        coco_url = base_coco_url + str(coco_image['id'])\n",
    "        #file = cStringIO.StringIO(urllib.urlopen(coco_url).read())\n",
    "        file = StringIO(urllib.request.urlopen(coco_url).read())\n",
    "        im = np.asarray(Image.open(file))\n",
    "        \n",
    "    sy = 4.; sx = float(im.shape[1])/float(im.shape[0])*sy;\n",
    "    fig, ax = subplot(plt, 1,1, sy,sx); ax.set_axis_off(); \n",
    "    ax.imshow(im);"
   ]
  },
  {
   "cell_type": "code",
   "execution_count": null,
   "outputs": [],
   "source": [
    "    print(\"test\")"
   ],
   "metadata": {
    "collapsed": false,
    "pycharm": {
     "name": "#%%\n",
     "is_executing": true
    }
   }
  },
  {
   "cell_type": "code",
   "execution_count": null,
   "outputs": [],
   "source": [
    "    print(im)\n",
    "    \n",
    "    # draw bounding box for agent\n",
    "    draw_bbox(plt, ax, vcoco['bbox'][[id],:], edgecolor=cc(0)[:3])\n",
    "    role_bbox = vcoco['role_bbox'][id,:]*1.\n",
    "    role_bbox = role_bbox.reshape((-1,4))\n",
    "    for j in range(1, len(vcoco['role_name'])):\n",
    "        if not np.isnan(role_bbox[j,0]):\n",
    "            draw_bbox(plt, ax, role_bbox[[j],:], edgecolor=cc(j)[:3])"
   ],
   "metadata": {
    "collapsed": false,
    "pycharm": {
     "name": "#%%\n",
     "is_executing": true
    }
   }
  }
 ],
 "metadata": {
  "kernelspec": {
   "name": "hoigcn",
   "language": "python",
   "display_name": "HOIGCN"
  },
  "language_info": {
   "codemirror_mode": {
    "name": "ipython",
    "version": 2
   },
   "file_extension": ".py",
   "mimetype": "text/x-python",
   "name": "python",
   "nbconvert_exporter": "python",
   "pygments_lexer": "ipython2",
   "version": "2.7.6"
  },
  "pycharm": {
   "stem_cell": {
    "cell_type": "raw",
    "source": [],
    "metadata": {
     "collapsed": false
    }
   }
  }
 },
 "nbformat": 4,
 "nbformat_minor": 0
}